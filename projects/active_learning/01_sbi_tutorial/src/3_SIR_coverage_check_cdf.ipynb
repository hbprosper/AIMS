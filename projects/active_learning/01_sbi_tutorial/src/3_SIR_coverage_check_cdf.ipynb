{
 "cells": [
  {
   "cell_type": "markdown",
   "metadata": {
    "id": "40Yb47zJQglm"
   },
   "source": [
    "# Simulation-Based Inference SIR Model: Coverage Study\n",
    "Created: June 8, 2022 Prosper, Prosper, and Ali Kadhim<br>\n",
    "\n",
    "## Introduction \n",
    "\n",
    "In this notebook, we compute through explicit enumeration the coverage of the confidence sets constructed using model **SIR_dnn_cdf_100k.py**.\n",
    "\n",
    "Recall that our test statistic is\n",
    "\n",
    "\\begin{align}\n",
    "    \\lambda(\\theta, \\mathbf{x}) & = \\frac{1}{50} \\sqrt{\\frac{1}{n} \\sum_{j=1}^n \\frac{[x_j - I_j(\\theta)]^2}{I_j}} ,\n",
    "\\end{align}\n",
    "\n",
    "where $\\mathbf{x} = x_1,\\cdots,x_n$ are infection counts and $I_j = I(t_j, \\theta)$ is the *mean* infection count at time $t_j$ found by solving the SIR equations\n",
    "\n",
    "\\begin{align}\n",
    "    \\frac{dS}{dt} & = - \\beta S I ,\\\\\n",
    "    \\frac{dI}{dt} & = \\beta S I - \\alpha I .\n",
    "\\end{align}\n",
    "\n",
    "Confidence sets are created through the repeated application of the level-$\\alpha$ test $H_0: \\theta = \\theta_0$ versus the alternative $H_1: \\theta \\neq \\theta_0$.\n",
    "A __confidence set__ $R({\\cal D})$, which is a random set by virtue of its dependence on potentially observable data ${\\cal D}$, is the set of all values of $\\theta$ that *fail to be rejected* by the level-$\\alpha$ tests (here $\\alpha$ is not to be confused with the SIR parameter).  The __confidence level__ (CL) of the confidence set is $\\tau = 1 - \\alpha$. If the coverage probability function (CPF), that is, the coverage probability of the infinite collection of confidence sets at a given point $\\theta$ in the parameter space, satisfies the condition $\\text{CPF}(\\theta \\in R({\\cal D}) | \\theta) \\ge \\tau$ then the confidence sets are said to be *exact*; otherwise they are approximate.\n",
    "\n",
    "\n",
    "## Explicit checking of coverage\n",
    "\n",
    "The notebook **2_SIR_train_cdf.ipynb** creates a model $f(\\alpha, \\beta, \\lambda_0)$ that approximates $\\mathbb{P}(\\lambda \\leq \\lambda_0|\\alpha, \\beta, \\lambda_0)$.  The figure below shows \n",
    "the SIR confidence sets, for different confidence levels, for the Boarding School data. The dashed contours are estimated through histogramming, while the continuous contours are the predictions of the simple deep neural network model $f(\\alpha, \\beta, \\lambda_0)$. \n",
    "\n",
    "### Coverage Algorithm\n",
    "We compute the coverage, through explicit enumeration, with algorithm below.\n",
    "  1. Sample $\\theta_i = (\\alpha_i, \\beta_i) \\sim \\pi_\\theta$ near the best fit point (specifically, within the 95\\% CL confidence set for the Boarding School data).\n",
    "  1. Compute the mean infection counts $\\mathbf{I}_i = (I_1,\\ldots, I_n)$ by solving the coupled ODEs.\n",
    "  1. Generate data $\\mathbf{D}_i = (x_1,\\ldots,x_n) \\sim F_{\\theta_i}$ for $K$ epidemics.\n",
    "  1. Sample confidence level $\\tau_i \\sim \\text{uniform(0.5, 1)}$\n",
    "  1. For each epidemic, $k$:\n",
    "      1. Compute the test statistic $\\lambda_{k} = \\lambda(\\theta_i, \\mathbf{D}_k)$\n",
    "      1. Compute $Z_k = \\mathbb{I}[\\, f(\\theta_i, \\lambda_k) \\leq \\tau_i\\, ]$, where $\\mathbb{I}$ is the indicator function. If $Z_k = 1$ then the point $\\theta_i$ lies within the confidence set, with confidence level $\\tau$, associated with the current epidemic, while if $Z_k = 0$ the point does not.\n",
    "  1. Compute fraction $f_i = \\text{sum}(Z) / K$, that is, the fraction of the time $\\theta_i$ was within the confidence set.\n",
    "  1. If $f_i \\approx \\tau_i$ then life is good!\n",
    "  1. Repeat the above many times."
   ]
  },
  {
   "cell_type": "code",
   "execution_count": 1,
   "metadata": {
    "id": "FA1Y5VCv20XZ"
   },
   "outputs": [
    {
     "name": "stdout",
     "output_type": "stream",
     "text": [
      "device: cpu\n"
     ]
    }
   ],
   "source": [
    "import os, sys\n",
    "sys.path.append('../')\n",
    "\n",
    "# the standard module for tabular data\n",
    "import pandas as pd\n",
    "\n",
    "# the standard module for array manipulation\n",
    "import numpy as np\n",
    "\n",
    "# the standard modules for high-quality plots\n",
    "import matplotlib as mp\n",
    "\n",
    "import matplotlib.pyplot as plt\n",
    "\n",
    "# standard scientific python module\n",
    "import scipy as sp\n",
    "import scipy.stats as st\n",
    "import scipy.optimize as op\n",
    "\n",
    "# pytorch\n",
    "import torch\n",
    "import torch.nn as nn\n",
    "\n",
    "import SIR_dnnutil as ut\n",
    "\n",
    "# to reload modules\n",
    "import importlib\n",
    "\n",
    "%matplotlib inline"
   ]
  },
  {
   "cell_type": "code",
   "execution_count": 2,
   "metadata": {},
   "outputs": [],
   "source": [
    "# update fonts\n",
    "FONTSIZE = 18\n",
    "font = {'family' : 'serif',\n",
    "        'weight' : 'normal',\n",
    "        'size'   : FONTSIZE}\n",
    "mp.rc('font', **font)\n",
    "\n",
    "# set usetex = False if LaTex is not \n",
    "# available on your system or if the \n",
    "# rendering is too slow\n",
    "mp.rc('text', usetex=True)\n",
    "\n",
    "# set a seed to ensure reproducibility\n",
    "#seed = 128\n",
    "#rnd  = np.random.RandomState(seed)"
   ]
  },
  {
   "cell_type": "markdown",
   "metadata": {},
   "source": [
    "### Load SIR data"
   ]
  },
  {
   "cell_type": "code",
   "execution_count": 3,
   "metadata": {},
   "outputs": [
    {
     "name": "stdout",
     "output_type": "stream",
     "text": [
      " D           : [  3  25  75 227 296 258 236 192 126  71  28  11   7]\n",
      " I0          : 3\n",
      " O           : [  3  25  75 227 296 258 236 192 126  71  28  11   7]\n",
      " R0          : 0\n",
      " S0          : 763\n",
      " T           : [ 0  2  3  4  5  6  7  8  9 10 11 12 13]\n",
      " alpha0      : 0.465\n",
      " alpha_bins  : 16\n",
      " alpha_max   : 1.0\n",
      " alpha_min   : 0.0\n",
      " alpha_scale : 1.0\n",
      " beta0       : 0.00237\n",
      " beta_bins   : 16\n",
      " beta_max    : 0.7\n",
      " beta_min    : 0.2\n",
      " beta_scale  : 0.005\n",
      " model       : SIR\n",
      " scale       : 50\n",
      " tmax        : 14.0\n",
      " tmin        : 0.0\n",
      "\n"
     ]
    }
   ],
   "source": [
    "from SIR_genutil import SIRdata\n",
    "print(SIRdata)"
   ]
  },
  {
   "cell_type": "markdown",
   "metadata": {},
   "source": [
    "### Load cdf model \n",
    "\n",
    "The model, $f$, approximates the probability\n",
    "\n",
    "\\begin{align}\n",
    "    \\mathbb{P}(\\lambda \\leq \\lambda_0 | \\alpha, \\beta) & = f(\\alpha, \\beta, \\lambda_0).\n",
    "\\end{align}"
   ]
  },
  {
   "cell_type": "code",
   "execution_count": 4,
   "metadata": {},
   "outputs": [
    {
     "name": "stdout",
     "output_type": "stream",
     "text": [
      "\n",
      "name     = 'SIR_dnn_cdf_100k'\n",
      "features = ['alpha', 'beta', 'lo']\n",
      "target   = 'Zo'\n",
      "nodes    =  16\n",
      "gsize    =  4\n",
      "\n",
      "import torch\n",
      "import torch.nn as nn\n",
      "\n",
      "class ResNet(nn.Module):\n",
      "    def __init__(self, nodes):\n",
      "        super().__init__()\n",
      "        self.module = nn.Sequential(nn.Linear(nodes, nodes), \n",
      "                                    nn.SiLU(),\n",
      "                                    nn.Linear(nodes, nodes), \n",
      "                                    nn.SiLU())\n",
      "\n",
      "    def forward(self, input):\n",
      "        return self.module(input) + input\n",
      "\n",
      "\n",
      "# Based on code written by ChatGPT v3.5\n",
      "class GroupSort(nn.Module):\n",
      "    def __init__(self, group_size=2):\n",
      "        super().__init__()\n",
      "        self.group_size = group_size\n",
      "        \n",
      "    def forward(self, input):\n",
      "        \"\"\"\n",
      "        Splits input tensor into groups of size 'group_size' \n",
      "        and sorts each group independently.\n",
      "    \n",
      "        Args:\n",
      "            input (torch.Tensor): The input tensor to be sorted.\n",
      "    \n",
      "        Returns:\n",
      "            torch.Tensor: The sorted tensor, with elements \n",
      "            grouped and sorted in ascending order.\n",
      "        \"\"\"\n",
      "        # Reshape the input tensor into groups of size 'group_size'\n",
      "        grouped_tensor = input.view(-1, self.group_size)\n",
      "    \n",
      "        # Sort each group individually using torch.sort\n",
      "        sorted_groups, _ = torch.sort(grouped_tensor)\n",
      "        \n",
      "        # Flatten the sorted tensor\n",
      "        sorted_tensor = sorted_groups.reshape(input.shape)\n",
      "    \n",
      "        return sorted_tensor\n",
      "\n",
      "model = nn.Sequential(nn.Linear(len(features), nodes), GroupSort(gsize),\n",
      "                      nn.Linear(nodes, nodes), GroupSort(gsize),\n",
      "                      nn.Linear(nodes, nodes), GroupSort(gsize),\n",
      "                      nn.Linear(nodes, 1),  nn.Sigmoid()\n",
      "                     )\n",
      "\n",
      "# model = nn.Sequential(nn.Linear(len(features), nodes), nn.SiLU(),\n",
      "#                       nn.Linear(nodes, nodes), nn.ReLU(),\n",
      "#                       nn.Linear(nodes, nodes), nn.SiLU(),\n",
      "#                       nn.Linear(nodes, nodes), nn.ReLU(),\n",
      "#                       nn.Linear(nodes, 1),  \n",
      "#                       nn.Sigmoid()\n",
      "#                      )\n"
     ]
    }
   ],
   "source": [
    "! cat ../models/SIR_dnn_cdf_100k.py"
   ]
  },
  {
   "cell_type": "code",
   "execution_count": 5,
   "metadata": {},
   "outputs": [
    {
     "name": "stdout",
     "output_type": "stream",
     "text": [
      "['alpha', 'beta', 'lo']\n",
      "Name:  SIR_dnn_cdf_100k\n",
      "Model:\n",
      "Sequential(\n",
      "  (0): Linear(in_features=3, out_features=16, bias=True)\n",
      "  (1): GroupSort()\n",
      "  (2): Linear(in_features=16, out_features=16, bias=True)\n",
      "  (3): GroupSort()\n",
      "  (4): Linear(in_features=16, out_features=16, bias=True)\n",
      "  (5): GroupSort()\n",
      "  (6): Linear(in_features=16, out_features=1, bias=True)\n",
      "  (7): Sigmoid()\n",
      ")\n",
      "load: ../models/SIR_dnn_cdf_100k.dict\n"
     ]
    }
   ],
   "source": [
    "import models.SIR_dnn_cdf_100k as NN\n",
    "importlib.reload(NN)\n",
    "\n",
    "features = NN.features\n",
    "name  = NN.name\n",
    "model = NN.model\n",
    "\n",
    "print(features)\n",
    "print('Name: ', name)\n",
    "print('Model:')\n",
    "print(model)\n",
    "\n",
    "modelfile = '../models/%s.dict' % name\n",
    "print('load:', modelfile)\n",
    "model.load_state_dict(torch.load(modelfile))\n",
    "\n",
    "def cdf(alpha, beta, l):\n",
    "    X = np.array([alpha, beta, l]).T\n",
    "    inputs = torch.Tensor(X)\n",
    "    # go to evaluation mode\n",
    "    model.eval()\n",
    "    \n",
    "    # compute,reshape to a 1d array, and convert to a numpy array\n",
    "    Y = model(inputs).view(-1,).detach().numpy()\n",
    "    if len(Y) == 1:\n",
    "        return Y[0]\n",
    "    else:\n",
    "        return Y"
   ]
  },
  {
   "cell_type": "markdown",
   "metadata": {},
   "source": [
    "### Study\n",
    "For each point $\\theta = \\alpha, \\beta$ randomly choose a confidence level $\\tau$ determine the fraction of the time the test statistics yield a confidence set that includes $\\theta$."
   ]
  },
  {
   "cell_type": "code",
   "execution_count": 6,
   "metadata": {},
   "outputs": [
    {
     "data": {
      "text/html": [
       "<div>\n",
       "<style scoped>\n",
       "    .dataframe tbody tr th:only-of-type {\n",
       "        vertical-align: middle;\n",
       "    }\n",
       "\n",
       "    .dataframe tbody tr th {\n",
       "        vertical-align: top;\n",
       "    }\n",
       "\n",
       "    .dataframe thead th {\n",
       "        text-align: right;\n",
       "    }\n",
       "</style>\n",
       "<table border=\"1\" class=\"dataframe\">\n",
       "  <thead>\n",
       "    <tr style=\"text-align: right;\">\n",
       "      <th></th>\n",
       "      <th>alpha</th>\n",
       "      <th>beta</th>\n",
       "      <th>l</th>\n",
       "    </tr>\n",
       "  </thead>\n",
       "  <tbody>\n",
       "    <tr>\n",
       "      <th>0</th>\n",
       "      <td>0.515374</td>\n",
       "      <td>0.490942</td>\n",
       "      <td>[0.026923867237551094, 0.080357968198306, 0.01...</td>\n",
       "    </tr>\n",
       "    <tr>\n",
       "      <th>1</th>\n",
       "      <td>0.447310</td>\n",
       "      <td>0.566963</td>\n",
       "      <td>[0.03919273462108729, 0.020078406626004477, 0....</td>\n",
       "    </tr>\n",
       "    <tr>\n",
       "      <th>2</th>\n",
       "      <td>0.636584</td>\n",
       "      <td>0.526598</td>\n",
       "      <td>[0.06104277253195194, 0.039168254312841745, 0....</td>\n",
       "    </tr>\n",
       "    <tr>\n",
       "      <th>3</th>\n",
       "      <td>0.315896</td>\n",
       "      <td>0.366369</td>\n",
       "      <td>[0.05353438554726757, 0.020809563281201884, 0....</td>\n",
       "    </tr>\n",
       "    <tr>\n",
       "      <th>4</th>\n",
       "      <td>0.499624</td>\n",
       "      <td>0.354600</td>\n",
       "      <td>[0.08851203191960628, 0.02607256422172975, 0.0...</td>\n",
       "    </tr>\n",
       "  </tbody>\n",
       "</table>\n",
       "</div>"
      ],
      "text/plain": [
       "      alpha      beta                                                  l\n",
       "0  0.515374  0.490942  [0.026923867237551094, 0.080357968198306, 0.01...\n",
       "1  0.447310  0.566963  [0.03919273462108729, 0.020078406626004477, 0....\n",
       "2  0.636584  0.526598  [0.06104277253195194, 0.039168254312841745, 0....\n",
       "3  0.315896  0.366369  [0.05353438554726757, 0.020809563281201884, 0....\n",
       "4  0.499624  0.354600  [0.08851203191960628, 0.02607256422172975, 0.0..."
      ]
     },
     "execution_count": 6,
     "metadata": {},
     "output_type": "execute_result"
    }
   ],
   "source": [
    "df = pd.read_csv('../data/SIR_coverage_data.csv.gz')\n",
    "df[:5]"
   ]
  },
  {
   "cell_type": "code",
   "execution_count": 7,
   "metadata": {},
   "outputs": [
    {
     "name": "stdout",
     "output_type": "stream",
     "text": [
      "number of parameter points, sample size: 249, 4000\n"
     ]
    },
    {
     "data": {
      "text/html": [
       "<div>\n",
       "<style scoped>\n",
       "    .dataframe tbody tr th:only-of-type {\n",
       "        vertical-align: middle;\n",
       "    }\n",
       "\n",
       "    .dataframe tbody tr th {\n",
       "        vertical-align: top;\n",
       "    }\n",
       "\n",
       "    .dataframe thead th {\n",
       "        text-align: right;\n",
       "    }\n",
       "</style>\n",
       "<table border=\"1\" class=\"dataframe\">\n",
       "  <thead>\n",
       "    <tr style=\"text-align: right;\">\n",
       "      <th></th>\n",
       "      <th>alpha</th>\n",
       "      <th>beta</th>\n",
       "      <th>l</th>\n",
       "    </tr>\n",
       "  </thead>\n",
       "  <tbody>\n",
       "    <tr>\n",
       "      <th>0</th>\n",
       "      <td>0.515374</td>\n",
       "      <td>0.490942</td>\n",
       "      <td>[0.026923867237551094, 0.080357968198306, 0.01...</td>\n",
       "    </tr>\n",
       "    <tr>\n",
       "      <th>1</th>\n",
       "      <td>0.447310</td>\n",
       "      <td>0.566963</td>\n",
       "      <td>[0.03919273462108729, 0.020078406626004477, 0....</td>\n",
       "    </tr>\n",
       "    <tr>\n",
       "      <th>2</th>\n",
       "      <td>0.636584</td>\n",
       "      <td>0.526598</td>\n",
       "      <td>[0.06104277253195194, 0.039168254312841745, 0....</td>\n",
       "    </tr>\n",
       "    <tr>\n",
       "      <th>3</th>\n",
       "      <td>0.315896</td>\n",
       "      <td>0.366369</td>\n",
       "      <td>[0.05353438554726757, 0.020809563281201884, 0....</td>\n",
       "    </tr>\n",
       "    <tr>\n",
       "      <th>4</th>\n",
       "      <td>0.499624</td>\n",
       "      <td>0.354600</td>\n",
       "      <td>[0.08851203191960628, 0.02607256422172975, 0.0...</td>\n",
       "    </tr>\n",
       "  </tbody>\n",
       "</table>\n",
       "</div>"
      ],
      "text/plain": [
       "      alpha      beta                                                  l\n",
       "0  0.515374  0.490942  [0.026923867237551094, 0.080357968198306, 0.01...\n",
       "1  0.447310  0.566963  [0.03919273462108729, 0.020078406626004477, 0....\n",
       "2  0.636584  0.526598  [0.06104277253195194, 0.039168254312841745, 0....\n",
       "3  0.315896  0.366369  [0.05353438554726757, 0.020809563281201884, 0....\n",
       "4  0.499624  0.354600  [0.08851203191960628, 0.02607256422172975, 0.0..."
      ]
     },
     "execution_count": 7,
     "metadata": {},
     "output_type": "execute_result"
    }
   ],
   "source": [
    "alpha = df['alpha'].to_numpy()\n",
    "beta  = df['beta'].to_numpy()\n",
    "li    = np.array([eval(x) for x in df.l])\n",
    "N, K  = li.shape\n",
    "\n",
    "print('number of parameter points, sample size: %d, %d' % (N, K))\n",
    "df[:5]"
   ]
  },
  {
   "cell_type": "code",
   "execution_count": 8,
   "metadata": {},
   "outputs": [],
   "source": [
    "def compute_coverage(cdf, alpha, beta, l, tau=0.683):\n",
    "    # N: number of parameter points\n",
    "    # K: number of data instances / parameter point\n",
    "    N, K = l.shape\n",
    "    cov  = [0] * N\n",
    "    ecov = [0] * N\n",
    "    for j, x, y in zip(range(N), alpha, beta):\n",
    "        \n",
    "        x = np.full((K), x)\n",
    "        y = np.full((K), y)\n",
    "        p = cdf(x, y, l[j])\n",
    "\n",
    "        # compute coverage\n",
    "        cov[j]  = np.mean(p < tau)\n",
    "        ecov[j] = np.sqrt(cov[j]*(1 - cov[j])/K)\n",
    "        \n",
    "    return cov, ecov"
   ]
  },
  {
   "cell_type": "code",
   "execution_count": 9,
   "metadata": {},
   "outputs": [],
   "source": [
    "def plot_coverage(x, y, N, cov, d, \n",
    "                  filename='../images/fig_SIR_coverage_cdf_100k.png', \n",
    "                         fgsize=(10, 5), ftsize=18):\n",
    "\n",
    "    fig, axx = plt.subplots(nrows=1, ncols=2, figsize=fgsize)\n",
    "    \n",
    "    # pad\n",
    "    #plt.subplots_adjust(hspace=0.01)\n",
    "    #plt.subplots_adjust(wspace=0.3)\n",
    "\n",
    "    # plot points in coverage set that have been used.\n",
    "    ax = axx[0]\n",
    "    xmin, xmax = d.xmin, d.xmax\n",
    "    ymin, ymax = d.ymin, d.ymax\n",
    "    \n",
    "    ax.set_xlim(xmin, xmax)\n",
    "    ax.set_xticks([0.2, 0.4, 0.6, 0.8])\n",
    "    ax.set_xlabel(r'$%s$' % d.xlabel, fontsize=ftsize)\n",
    "    \n",
    "    ax.set_ylim(ymin, ymax)\n",
    "    ax.set_yticks([0.3, 0.4, 0.5, 0.6])\n",
    "    ax.set_ylabel(r'$%s$' % d.ylabel, fontsize=ftsize)\n",
    "    \n",
    "    ax.scatter(x[:N], y[:N], \n",
    "               s=2, c='black', #alpha=0.7, \n",
    "               label='95\\% CL set')\n",
    "    ax.legend(fontsize=ftsize)\n",
    "    ax.grid()\n",
    "    \n",
    "    # plot coverage versus parameter point\n",
    "    tau, c, ec = cov[0]\n",
    "    xmin = 0\n",
    "    xmax = len(c)\n",
    "    p  = np.arange(0, xmax, 1)\n",
    "    ax = axx[1]\n",
    "    ax.set_xlim(xmin, xmax)\n",
    "    ax.set_xticks(np.arange(0, N, 100))\n",
    "    ax.set_xlabel('parameter point', fontsize=ftsize)\n",
    "    \n",
    "    ax.set_ylim(0.5, 1)\n",
    "    ax.set_yticks([0.5, 0.6, 0.7, 0.8, 0.9, 1.0])\n",
    "    ax.set_ylabel('coverage', fontsize=ftsize)\n",
    "    \n",
    "    color = ['red', 'darkorange', 'royalblue', 'darkgreen']\n",
    "    for kolor, (tau, c, ec) in zip(color, cov):\n",
    "        ax.scatter(p, c, s=2, c=kolor)\n",
    "        ax.plot([xmin, xmax], [tau, tau], c=kolor, linewidth=2)\n",
    "\n",
    "    ax.grid() \n",
    "    \n",
    "    plt.tight_layout()\n",
    "    plt.savefig(filename)"
   ]
  },
  {
   "cell_type": "code",
   "execution_count": 10,
   "metadata": {},
   "outputs": [
    {
     "name": "stdout",
     "output_type": "stream",
     "text": [
      "  0.68\n",
      "  0.80\n",
      "  0.90\n",
      "done!\n"
     ]
    }
   ],
   "source": [
    "N = len(li)\n",
    "l = np.array(li)\n",
    "\n",
    "cov = []\n",
    "for tau in [0.68, 0.80, 0.90]:\n",
    "\n",
    "    print(f'{tau:6.2f}')\n",
    "\n",
    "    c, e = compute_coverage(cdf, alpha[:N], beta[:N], l[:N], tau)\n",
    "    cov.append((tau, c, e))\n",
    "    \n",
    "print('done!')"
   ]
  },
  {
   "cell_type": "code",
   "execution_count": 11,
   "metadata": {},
   "outputs": [
    {
     "data": {
      "image/png": "[encoded data removed]",
      "text/plain": [
       "<Figure size 1000x500 with 2 Axes>"
      ]
     },
     "metadata": {},
     "output_type": "display_data"
    }
   ],
   "source": [
    "gfile = '../images/fig_SIR_coverage_check_cdf_100k.png'\n",
    "SIRdata.xmin = SIRdata.alpha_min\n",
    "SIRdata.xmax = SIRdata.alpha_max\n",
    "SIRdata.xlabel = '\\\\alpha'\n",
    "\n",
    "SIRdata.ymin = SIRdata.beta_min\n",
    "SIRdata.ymax = SIRdata.beta_max\n",
    "SIRdata.ylabel = '\\\\beta'\n",
    "\n",
    "plot_coverage(alpha, beta, N, cov, SIRdata, filename=gfile)"
   ]
  },
  {
   "cell_type": "code",
   "execution_count": null,
   "metadata": {},
   "outputs": [],
   "source": []
  }
 ],
 "metadata": {
  "@webio": {
   "lastCommId": null,
   "lastKernelId": null
  },
  "accelerator": "GPU",
  "colab": {
   "collapsed_sections": [],
   "name": "DRL_19_REINFORCE_Algorithm.ipynb",
   "provenance": []
  },
  "kernelspec": {
   "display_name": "Python 3 (ipykernel)",
   "language": "python",
   "name": "python3"
  },
  "language_info": {
   "codemirror_mode": {
    "name": "ipython",
    "version": 3
   },
   "file_extension": ".py",
   "mimetype": "text/x-python",
   "name": "python",
   "nbconvert_exporter": "python",
   "pygments_lexer": "ipython3",
   "version": "3.11.8"
  }
 },
 "nbformat": 4,
 "nbformat_minor": 4
}
