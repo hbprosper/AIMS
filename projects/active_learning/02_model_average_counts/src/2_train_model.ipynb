{
 "cells": [
  {
   "cell_type": "markdown",
   "metadata": {
    "id": "40Yb47zJQglm"
   },
   "source": [
    "## 2. Model SIR Mean Counts $S(t, \\alpha, \\beta)$ and $I(t, \\alpha, \\beta)$\n",
    "Created: Mar 18, 2024 HBP and Hassan Mahamat Nil, Johannesburg, South Africa<br>\n",
    "\n",
    "### Introduction \n",
    "\n",
    "This notebook attempts to model the mean counts $S(t, \\alpha, \\beta)$ and $I(t, \\alpha, \\beta)$ from simulated epidemics. The training data are a random sequence of 5-tuples, $(\\alpha, \\beta, t, s, i)$. We shall use the (scaled) counts $s$ and $i$ as **targets** and $\\alpha, \\beta, t$ as **inputs**."
   ]
  },
  {
   "cell_type": "code",
   "execution_count": 1,
   "metadata": {
    "id": "FA1Y5VCv20XZ"
   },
   "outputs": [
    {
     "name": "stdout",
     "output_type": "stream",
     "text": [
      "device: cpu\n"
     ]
    }
   ],
   "source": [
    "BASE = '../../01_sbi_tutorial/'\n",
    "\n",
    "import os, sys\n",
    "\n",
    "sys.path.append(f'{BASE:s}/src')\n",
    "sys.path.append('../')\n",
    "\n",
    "# the standard module for tabular data\n",
    "import pandas as pd\n",
    "\n",
    "# the standard module for array manipulation\n",
    "import numpy as np\n",
    "\n",
    "# the standard modules for high-quality plots\n",
    "import matplotlib as mp\n",
    "import matplotlib.pyplot as plt\n",
    "\n",
    "# standard scientific python module\n",
    "import scipy as sp\n",
    "import scipy.stats as st\n",
    "import scipy.optimize as op\n",
    "\n",
    "# pytorch\n",
    "import torch\n",
    "import torch.nn as nn\n",
    "\n",
    "# split data into a training set and a test set\n",
    "from sklearn.model_selection import train_test_split\n",
    "\n",
    "# to reload modules\n",
    "import importlib\n",
    "\n",
    "import SIR_dnnutil as ut\n",
    "from SIR_genutil import SIRdata, compute_means\n",
    "\n",
    "%matplotlib inline"
   ]
  },
  {
   "cell_type": "code",
   "execution_count": 2,
   "metadata": {},
   "outputs": [],
   "source": [
    "# update fonts\n",
    "FONTSIZE = 18\n",
    "font = {'family' : 'serif',\n",
    "        'weight' : 'normal',\n",
    "        'size'   : FONTSIZE}\n",
    "mp.rc('font', **font)\n",
    "\n",
    "# set usetex = False if LaTex is not \n",
    "# available on your system or if the \n",
    "# rendering is too slow\n",
    "mp.rc('text', usetex=True)\n",
    "\n",
    "# set a seed to ensure reproducibility\n",
    "seed = 217\n",
    "rnd  = np.random.RandomState(seed)"
   ]
  },
  {
   "cell_type": "markdown",
   "metadata": {},
   "source": [
    "### Load data\n",
    "\n",
    "__Note__: The $\\alpha$ and $\\beta$ parameters have been scaled so that they are of $\\cal{O}(1)$. Therefore, no further transformation is needed."
   ]
  },
  {
   "cell_type": "code",
   "execution_count": 3,
   "metadata": {},
   "outputs": [
    {
     "name": "stdout",
     "output_type": "stream",
     "text": [
      "SIRdata\n",
      " D           : [  3  25  75 227 296 258 236 192 126  71  28  11   7]\n",
      " I0          : 3\n",
      " O           : [  3  25  75 227 296 258 236 192 126  71  28  11   7]\n",
      " R0          : 0\n",
      " S0          : 763\n",
      " T           : [ 0  2  3  4  5  6  7  8  9 10 11 12 13]\n",
      " alpha0      : 0.465\n",
      " alpha_bins  : 16\n",
      " alpha_max   : 0.9\n",
      " alpha_min   : 0.1\n",
      " alpha_scale : 1.0\n",
      " beta0       : 0.00237\n",
      " beta_bins   : 16\n",
      " beta_max    : 0.65\n",
      " beta_min    : 0.25\n",
      " beta_scale  : 0.005\n",
      " model       : SIR\n",
      " scale       : 50\n",
      " tmax        : 14.0\n",
      " tmin        : 0.0\n",
      "\n",
      "\n",
      "loading ../data/traindata_110k.csv.gz\n",
      "number of rows: 110000\n"
     ]
    },
    {
     "data": {
      "text/html": [
       "<div>\n",
       "<style scoped>\n",
       "    .dataframe tbody tr th:only-of-type {\n",
       "        vertical-align: middle;\n",
       "    }\n",
       "\n",
       "    .dataframe tbody tr th {\n",
       "        vertical-align: top;\n",
       "    }\n",
       "\n",
       "    .dataframe thead th {\n",
       "        text-align: right;\n",
       "    }\n",
       "</style>\n",
       "<table border=\"1\" class=\"dataframe\">\n",
       "  <thead>\n",
       "    <tr style=\"text-align: right;\">\n",
       "      <th></th>\n",
       "      <th>alpha</th>\n",
       "      <th>beta</th>\n",
       "      <th>t</th>\n",
       "      <th>s</th>\n",
       "      <th>i</th>\n",
       "    </tr>\n",
       "  </thead>\n",
       "  <tbody>\n",
       "    <tr>\n",
       "      <th>0</th>\n",
       "      <td>0.213605</td>\n",
       "      <td>0.555996</td>\n",
       "      <td>0.071429</td>\n",
       "      <td>0.981723</td>\n",
       "      <td>0.016971</td>\n",
       "    </tr>\n",
       "    <tr>\n",
       "      <th>1</th>\n",
       "      <td>0.035917</td>\n",
       "      <td>0.609252</td>\n",
       "      <td>0.464286</td>\n",
       "      <td>0.000000</td>\n",
       "      <td>0.896867</td>\n",
       "    </tr>\n",
       "    <tr>\n",
       "      <th>2</th>\n",
       "      <td>0.901360</td>\n",
       "      <td>0.650791</td>\n",
       "      <td>0.142857</td>\n",
       "      <td>0.745431</td>\n",
       "      <td>0.184073</td>\n",
       "    </tr>\n",
       "    <tr>\n",
       "      <th>3</th>\n",
       "      <td>0.406070</td>\n",
       "      <td>0.219739</td>\n",
       "      <td>0.321429</td>\n",
       "      <td>0.869452</td>\n",
       "      <td>0.065274</td>\n",
       "    </tr>\n",
       "    <tr>\n",
       "      <th>4</th>\n",
       "      <td>0.039018</td>\n",
       "      <td>0.566040</td>\n",
       "      <td>0.678571</td>\n",
       "      <td>0.000000</td>\n",
       "      <td>0.779373</td>\n",
       "    </tr>\n",
       "  </tbody>\n",
       "</table>\n",
       "</div>"
      ],
      "text/plain": [
       "      alpha      beta         t         s         i\n",
       "0  0.213605  0.555996  0.071429  0.981723  0.016971\n",
       "1  0.035917  0.609252  0.464286  0.000000  0.896867\n",
       "2  0.901360  0.650791  0.142857  0.745431  0.184073\n",
       "3  0.406070  0.219739  0.321429  0.869452  0.065274\n",
       "4  0.039018  0.566040  0.678571  0.000000  0.779373"
      ]
     },
     "execution_count": 3,
     "metadata": {},
     "output_type": "execute_result"
    }
   ],
   "source": [
    "print('SIRdata')\n",
    "data = SIRdata\n",
    "data.alpha_min,  data.alpha_max = 0.10, 0.90\n",
    "data.beta_min,   data.beta_max  = 0.25, 0.65\n",
    "print(data)\n",
    "print()\n",
    "\n",
    "datafile = f'../data/traindata_110k.csv.gz'\n",
    "print('loading %s' % datafile)\n",
    "df = pd.read_csv(datafile)\n",
    "print('number of rows:', len(df))\n",
    "\n",
    "# Scale counts and times\n",
    "\n",
    "df.t /= data.tmax\n",
    "\n",
    "total = data.S0 + data.I0 + data.R0\n",
    "df.s /= total\n",
    "df.i /= total\n",
    "\n",
    "df[:5]"
   ]
  },
  {
   "cell_type": "markdown",
   "metadata": {},
   "source": [
    "### Train, validation, and test sets\n",
    "There is some confusion in terminology regarding validation and test samples (or sets). We shall adhere to the defintions given here https://machinelearningmastery.com/difference-test-validation-datasets/):\n",
    "   \n",
    "  * __Training Dataset__: The sample of data used to fit the model.\n",
    "  * __Validation Dataset__: The sample of data used to decide 1) whether the fit is reasonable (e.g., the model has not been overfitted), 2) decide which of several models is the best and 3) tune model hyperparameters.\n",
    "  * __Test Dataset__: The sample of data used to provide an unbiased evaluation of a final model fit on the training dataset.\n",
    "\n",
    "The validation set will be some small fraction of the training set and can be used, for example, to decide when to stop the training."
   ]
  },
  {
   "cell_type": "code",
   "execution_count": 4,
   "metadata": {},
   "outputs": [
    {
     "name": "stdout",
     "output_type": "stream",
     "text": [
      "train set size:        100000\n",
      "validation set size:     5000\n",
      "test set size:           5000\n"
     ]
    }
   ],
   "source": [
    "# Fraction of the data assigned as test data and validation\n",
    "tfraction = 5/110 # test fraction\n",
    "vfraction = 5/110 # validation fraction\n",
    "tdata     = df\n",
    "\n",
    "SIRdata.alpha_bins = 10\n",
    "SIRdata.beta_bins  = 10\n",
    "\n",
    "# Split data into a part for training and a part for testing\n",
    "train_data, valid_data, test_data = ut.split_data(df, \n",
    "                                         test_fraction=tfraction, \n",
    "                                         validation_fraction=vfraction) \n",
    "\n",
    "print('train set size:        %6d' % train_data.shape[0])\n",
    "print('validation set size:   %6d' % valid_data.shape[0])\n",
    "print('test set size:         %6d' % test_data.shape[0])"
   ]
  },
  {
   "cell_type": "markdown",
   "metadata": {},
   "source": [
    "### Empirical risk (that is, average loss)\n",
    "\n",
    "The empirical risk, which is the __objective function__ we shall minimize, is defined by\n",
    "\n",
    "\\begin{align}\n",
    "R_M(\\theta) & = \\frac{1}{M} \\sum_{m=1}^{M} L(t_m, f_m),\n",
    "\\end{align}\n",
    "\n",
    "where \n",
    "\n",
    "\\begin{align*}\n",
    "    f_m & \\equiv f(\\mathbf{x}_m, \\theta).\n",
    "\\end{align*}\n",
    "\n",
    "The empirical risk $R_M$ approximates the __risk functional__\n",
    "\n",
    "\\begin{align}\n",
    "R[f] & = \\int \\cdots \\int \\, p(t, \\mathbf{x}) \\, L(t, f(\\mathbf{x}, \\theta)) \\, dt \\, d\\mathbf{x} .\n",
    "\\end{align}\n",
    "\n",
    "The quantity $p(t, \\mathbf{x}) \\, dt\\, d\\mathbf{x}$ is the probability distribution from which the sample $\\{ (t_m, \\mathbf{x}_m), m = 1,\\cdots, M \\}$ is presumed to have been drawn. \n",
    "\n",
    "We use the __quadratic loss__\n",
    "\n",
    "\\begin{align}\n",
    "    L(t, f) &= (t - f)^2 .\n",
    "\\end{align}"
   ]
  },
  {
   "cell_type": "markdown",
   "metadata": {
    "id": "NJC916BU-9L6"
   },
   "source": [
    "### Define model $f(\\alpha, \\beta, t; \\omega)$\n",
    "\n",
    "For simple models, it is sufficient to use the __Sequential__ class."
   ]
  },
  {
   "cell_type": "code",
   "execution_count": 5,
   "metadata": {},
   "outputs": [
    {
     "name": "stdout",
     "output_type": "stream",
     "text": [
      "Overwriting ../models/SIR_soln_100k.py\n"
     ]
    }
   ],
   "source": [
    "%%writefile ../models/SIR_soln_100k.py\n",
    "\n",
    "name     = 'SIR_soln_100k'\n",
    "features = ['alpha', 'beta', 't']\n",
    "target   = ['s', 'i']\n",
    "nodes    =  20\n",
    "\n",
    "import torch\n",
    "import torch.nn as nn\n",
    "\n",
    "model = nn.Sequential(nn.Linear(len(features), nodes), nn.ReLU(),\n",
    "                      nn.Linear(nodes, nodes), nn.ReLU(),\n",
    "                      nn.Linear(nodes, nodes), nn.ReLU(),\n",
    "                      nn.Linear(nodes, nodes), nn.ReLU(),\n",
    "                      nn.Linear(nodes, 2))"
   ]
  },
  {
   "cell_type": "code",
   "execution_count": 6,
   "metadata": {},
   "outputs": [
    {
     "name": "stdout",
     "output_type": "stream",
     "text": [
      "SIR_soln_100k\n",
      "Sequential(\n",
      "  (0): Linear(in_features=3, out_features=20, bias=True)\n",
      "  (1): ReLU()\n",
      "  (2): Linear(in_features=20, out_features=20, bias=True)\n",
      "  (3): ReLU()\n",
      "  (4): Linear(in_features=20, out_features=20, bias=True)\n",
      "  (5): ReLU()\n",
      "  (6): Linear(in_features=20, out_features=20, bias=True)\n",
      "  (7): ReLU()\n",
      "  (8): Linear(in_features=20, out_features=2, bias=True)\n",
      ")\n",
      "number of parameters: 1382\n"
     ]
    }
   ],
   "source": [
    "import models.SIR_soln_100k as NN\n",
    "importlib.reload(NN)\n",
    "name     = NN.name\n",
    "model    = NN.model\n",
    "features = NN.features\n",
    "target   = NN.target\n",
    "\n",
    "modelfile  = '../models/%s.dict' % NN.name\n",
    "print(name)\n",
    "print(model)\n",
    "print('number of parameters: %d' % ut.number_of_parameters(model))"
   ]
  },
  {
   "cell_type": "markdown",
   "metadata": {},
   "source": [
    "### Train!"
   ]
  },
  {
   "cell_type": "code",
   "execution_count": 7,
   "metadata": {},
   "outputs": [],
   "source": [
    "traces = ([], [], [])\n",
    "traces_step = 500"
   ]
  },
  {
   "cell_type": "code",
   "execution_count": 8,
   "metadata": {},
   "outputs": [
    {
     "name": "stdout",
     "output_type": "stream",
     "text": [
      "Iteration vs average loss\n",
      "iteration train-set valid-set\n",
      "0        0 0.2798233 0.2832171\n",
      "500      500 0.1223954 0.1225884\n",
      "1000     1000 0.0886284 0.0880890\n",
      "1500     1500 0.0464188 0.0447653\n",
      "2000     2000 0.0341060 0.0315402\n",
      "275000500 0.0105070 0.0087820    274500:    174500/0.00876676/   100000\n",
      "\n",
      "stopping early!\n",
      "\n"
     ]
    },
    {
     "data": {
      "image/png": "[encoded data removed]",
      "text/plain": [
       "<Figure size 500x500 with 1 Axes>"
      ]
     },
     "metadata": {},
     "output_type": "display_data"
    }
   ],
   "source": [
    "n_batch       = 100\n",
    "n_iterations  = 10000000\n",
    "early_stopping= 100000\n",
    "learning_rate = 1.e-4\n",
    "\n",
    "av_loss = ut.average_quadratic_loss\n",
    "\n",
    "optimizer = torch.optim.Adam(model.parameters(), lr=learning_rate) \n",
    "\n",
    "traces = ut.train(model, optimizer, \n",
    "                  modelfile, early_stopping,\n",
    "                  av_loss,\n",
    "                  ut.get_batch, \n",
    "                  train_data, valid_data,\n",
    "                  features, target,\n",
    "                  n_batch, \n",
    "                  n_iterations,\n",
    "                  traces,\n",
    "                  step=traces_step)\n",
    "\n",
    "ut.plot_average_loss(traces)"
   ]
  },
  {
   "cell_type": "markdown",
   "metadata": {},
   "source": [
    "### Load trained model"
   ]
  },
  {
   "cell_type": "code",
   "execution_count": 18,
   "metadata": {},
   "outputs": [
    {
     "name": "stdout",
     "output_type": "stream",
     "text": [
      "load model: ../models/SIR_soln_100k.dict\n"
     ]
    }
   ],
   "source": [
    "Load_model = True\n",
    "print('load model: %s' % modelfile)\n",
    "\n",
    "if Load_model:\n",
    "    modeldict = torch.load(modelfile)\n",
    "    NN.model.load_state_dict(modeldict)\n",
    "\n",
    "\n",
    "def dnn(alpha, beta, t):\n",
    "    X = np.array([alpha, beta, t]).T\n",
    "    inputs = torch.Tensor(X)\n",
    "    # go to evaluation mode\n",
    "    model.eval()\n",
    "    \n",
    "    # compute,reshape to a 1d array, and convert to a numpy array\n",
    "    Y = model(inputs).detach().numpy()\n",
    "    if len(Y) == 1:\n",
    "        return Y[0]\n",
    "    else:\n",
    "        return Y"
   ]
  },
  {
   "cell_type": "markdown",
   "metadata": {},
   "source": [
    "### Example: use of `compute_means`"
   ]
  },
  {
   "cell_type": "code",
   "execution_count": 4,
   "metadata": {},
   "outputs": [
    {
     "name": "stdout",
     "output_type": "stream",
     "text": [
      "Help on function compute_means in module SIR_genutil:\n",
      "\n",
      "compute_means(alpha, beta, size=400, frac=0.25, meta_data=<SIR_genutil.FluData object at 0x145eeab10>)\n",
      "    Compute mean counts S(t), I(t), R(t)\n",
      "    \n",
      "    Inputs:\n",
      "       alpha, beta:    parameter points (floats)\n",
      "       size:           number of epidemics to simulate\n",
      "       frac:           fraction of day at which to observe epidemic,\n",
      "                       therefore, number of observation points = int((tmax-time)/frac) + 1\n",
      "       meta_data:      data in SIRdata\n",
      "    \n",
      "    Returns:\n",
      "       t, [S, I, R]    observation times, and [S, I, R] as a numpy array of shape (size, 3)\n",
      "\n"
     ]
    }
   ],
   "source": [
    "help(compute_means)"
   ]
  },
  {
   "cell_type": "code",
   "execution_count": 9,
   "metadata": {},
   "outputs": [
    {
     "data": {
      "image/png": "[encoded data removed]",
      "text/plain": [
       "<Figure size 640x480 with 1 Axes>"
      ]
     },
     "metadata": {},
     "output_type": "display_data"
    }
   ],
   "source": [
    "a = 0.5\n",
    "b = 0.5\n",
    "t, means = compute_means(a, b)\n",
    "\n",
    "plt.xlim(0,  12)\n",
    "plt.xlabel('time in days')\n",
    "\n",
    "plt.ylim(0, 800)\n",
    "plt.ylabel('mean counts')\n",
    "\n",
    "plt.plot(t, means);"
   ]
  },
  {
   "cell_type": "code",
   "execution_count": null,
   "metadata": {},
   "outputs": [],
   "source": []
  }
 ],
 "metadata": {
  "accelerator": "GPU",
  "colab": {
   "collapsed_sections": [],
   "name": "DRL_19_REINFORCE_Algorithm.ipynb",
   "provenance": []
  },
  "kernelspec": {
   "display_name": "Python 3 (ipykernel)",
   "language": "python",
   "name": "python3"
  },
  "language_info": {
   "codemirror_mode": {
    "name": "ipython",
    "version": 3
   },
   "file_extension": ".py",
   "mimetype": "text/x-python",
   "name": "python",
   "nbconvert_exporter": "python",
   "pygments_lexer": "ipython3",
   "version": "3.11.8"
  }
 },
 "nbformat": 4,
 "nbformat_minor": 4
}
