{
 "cells": [
  {
   "cell_type": "markdown",
   "metadata": {},
   "source": [
    "## 1. Generating SIR Training Data: Modeling Mean Counts $S(t)$ and $I(t)$\n",
    "Created: Mar 18, 2024 HBP and Hassan Mahamat Nil, Johannesburg, South Africa<br>\n",
    "\n",
    "### Introduction\n",
    "\n",
    "The susceptible (S), infected (I), removed (R) model is a classic model of an epidemic in which individuals can be in one of three classes (or compartments), denoted by S, I, or R. Individuals can transition from S to I with a probability proportional to $\\beta \\, s \\, i$, where $s$ and $i$ are the number of susceptible and infected persons at time $t$, and from I to R with a probability proportional to $\\alpha \\, i$. The SIR model assumes that the population of individuals is thoroughly mixed; that is, that every individual has equal probability to be in contact with every other individual. For a highly localized epidemic, such as an outbreak of flu in a school, this may be a reasonable assumption, but it is unlikely to be reasonable for an epidemic spread over a large area. Nevertheless, the SIR model, the prototype of more sophisticated models of epidemics, is still widely studied. \n",
    "\n",
    "There are two broad approaches to studying models of epidemics:\n",
    "  * The use of **deterministic models** based on ordinary differential equations.\n",
    "  * The use of **stochastic models** based on Markov chains.\n",
    "\n",
    "A deterministic model seeks to approximate the **mean counts** in each compartment as a function of time, $t$. For the SIR model, this would be $S(t) \\equiv \\langle s \\rangle(t)$, $I(t) \\equiv \\langle i \\rangle(t)$, and $R(t) \\equiv \\langle r \\rangle(t)$. \n",
    "\n",
    "### The SIR Deterministic Model\n",
    "\n",
    "As noted above, this is the prototypical model of an epidemic with 3 compartments: susceptible (S), infected (I), and removed (R). The deterministic model is described using the ordinary differential equations,\n",
    "\\begin{align}\n",
    "    \\frac{dS}{dt} & = - \\beta \\, \\langle s \\, i \\rangle,\\\\\n",
    "    \\frac{dI}{dt} & = - \\alpha \\, I + \\beta \\langle s \\, i \\rangle ,\\\\\n",
    "    \\frac{dR}{dt} & = \\alpha \\, I.\n",
    "\\end{align}\n",
    "If the correlation between the susceptible and infected counts is neglected, then we can approximate\n",
    "$\\langle s \\, i \\rangle \\approx S I$, in which case we arrive at the standard form of the SIR deterministic model,\n",
    "\\begin{align}\n",
    "    \\frac{dS}{dt} & = - \\beta \\, S I,\\\\\n",
    "    \\frac{dI}{dt} & = - \\alpha I + \\beta \\, S I ,\\\\\n",
    "    \\frac{dR}{dt} & = \\alpha \\, I.\n",
    "\\end{align}\n",
    "The parameters of the model are:\n",
    "\\begin{align*}\n",
    "    \\alpha &= \\mbox{removal rate (due to recovery or mortality); so $1/\\alpha$ is the mean infectious period, and}\\\\\n",
    "    \\beta &= \\mbox{transmission rate per infected person.}\\\\\n",
    "\\end{align*}\n",
    "\n",
    "### The SIR Stochastic Model\n",
    "For each SIR parameter point $\\theta = \\alpha, \\beta$, this notebook simulates a single SIR epidemic, represented as a sequence of quadruplets, $(t, s, i, r)$, where $s$, $i$, and $r$ are the counts of individuals in the compartments S, I, and R at time $t$, respectively. The quadruplets are randomly shuffled and constitute the training data to be used later in an attempt to model $S(t)$ and $I(t)$ from the simulations."
   ]
  },
  {
   "cell_type": "code",
   "execution_count": 2,
   "metadata": {},
   "outputs": [
    {
     "name": "stdout",
     "output_type": "stream",
     "text": [
      "1_SIR_generate_data.ipynb      SIR_dnnutil.py\n",
      "2_SIR_train_cdf.ipynb          SIR_genutil.py\n",
      "3_SIR_coverage_check_cdf.ipynb \u001b[34m__pycache__\u001b[m\u001b[m\n"
     ]
    }
   ],
   "source": [
    "! ls ../../01_sbi_tutorial/src"
   ]
  },
  {
   "cell_type": "code",
   "execution_count": 4,
   "metadata": {},
   "outputs": [],
   "source": [
    "BASE = '../../01_sbi_tutorial/'\n",
    "\n",
    "import os, sys\n",
    "\n",
    "sys.path.append(f'{BASE:s}/src')\n",
    "\n",
    "import numpy as np\n",
    "import pandas as pd\n",
    "\n",
    "# the standard modules for high-quality plots\n",
    "import matplotlib as mp\n",
    "import matplotlib.pyplot as plt\n",
    "%matplotlib inline\n",
    "\n",
    "# to reload modules\n",
    "import importlib\n",
    "\n",
    "from tqdm import tqdm\n",
    "\n",
    "# update fonts\n",
    "FONTSIZE = 18\n",
    "font = {'family' : 'serif',\n",
    "        'weight' : 'normal',\n",
    "        'size'   : FONTSIZE}\n",
    "mp.rc('font', **font)\n",
    "\n",
    "# set usetex = False if LaTex is not \n",
    "# available on your system or if the \n",
    "# rendering is too slow\n",
    "mp.rc('text', usetex=True)\n",
    "\n",
    "# set a seed to ensure reproducibility\n",
    "seed = 128\n",
    "rnd  = np.random.RandomState(seed)\n"
   ]
  },
  {
   "cell_type": "markdown",
   "metadata": {},
   "source": [
    "### Load SIR data and generate function"
   ]
  },
  {
   "cell_type": "code",
   "execution_count": 5,
   "metadata": {},
   "outputs": [
    {
     "name": "stdout",
     "output_type": "stream",
     "text": [
      " D           : [  3  25  75 227 296 258 236 192 126  71  28  11   7]\n",
      " I0          : 3\n",
      " O           : [  3  25  75 227 296 258 236 192 126  71  28  11   7]\n",
      " R0          : 0\n",
      " S0          : 763\n",
      " T           : [ 0  2  3  4  5  6  7  8  9 10 11 12 13]\n",
      " alpha0      : 0.465\n",
      " alpha_bins  : 16\n",
      " alpha_max   : 1.0\n",
      " alpha_min   : 0.0\n",
      " alpha_scale : 1.0\n",
      " beta0       : 0.00237\n",
      " beta_bins   : 16\n",
      " beta_max    : 0.7\n",
      " beta_min    : 0.2\n",
      " beta_scale  : 0.005\n",
      " model       : SIR\n",
      " scale       : 50\n",
      " tmax        : 14.0\n",
      " tmin        : 0.0\n",
      "\n"
     ]
    }
   ],
   "source": [
    "from SIR_genutil import generate, observe, Fsolve, SIRdata\n",
    "print(SIRdata)"
   ]
  },
  {
   "cell_type": "markdown",
   "metadata": {},
   "source": [
    "### Load $(\\alpha, \\beta)$ data"
   ]
  },
  {
   "cell_type": "code",
   "execution_count": 6,
   "metadata": {},
   "outputs": [
    {
     "name": "stdout",
     "output_type": "stream",
     "text": [
      "number of entries: 25000\n"
     ]
    },
    {
     "data": {
      "text/html": [
       "<div>\n",
       "<style scoped>\n",
       "    .dataframe tbody tr th:only-of-type {\n",
       "        vertical-align: middle;\n",
       "    }\n",
       "\n",
       "    .dataframe tbody tr th {\n",
       "        vertical-align: top;\n",
       "    }\n",
       "\n",
       "    .dataframe thead th {\n",
       "        text-align: right;\n",
       "    }\n",
       "</style>\n",
       "<table border=\"1\" class=\"dataframe\">\n",
       "  <thead>\n",
       "    <tr style=\"text-align: right;\">\n",
       "      <th></th>\n",
       "      <th>alpha</th>\n",
       "      <th>beta</th>\n",
       "    </tr>\n",
       "  </thead>\n",
       "  <tbody>\n",
       "    <tr>\n",
       "      <th>0</th>\n",
       "      <td>0.556824</td>\n",
       "      <td>0.432547</td>\n",
       "    </tr>\n",
       "    <tr>\n",
       "      <th>1</th>\n",
       "      <td>0.917183</td>\n",
       "      <td>0.617733</td>\n",
       "    </tr>\n",
       "    <tr>\n",
       "      <th>2</th>\n",
       "      <td>0.222595</td>\n",
       "      <td>0.684092</td>\n",
       "    </tr>\n",
       "    <tr>\n",
       "      <th>3</th>\n",
       "      <td>0.513685</td>\n",
       "      <td>0.231400</td>\n",
       "    </tr>\n",
       "    <tr>\n",
       "      <th>4</th>\n",
       "      <td>0.533168</td>\n",
       "      <td>0.343659</td>\n",
       "    </tr>\n",
       "  </tbody>\n",
       "</table>\n",
       "</div>"
      ],
      "text/plain": [
       "      alpha      beta\n",
       "0  0.556824  0.432547\n",
       "1  0.917183  0.617733\n",
       "2  0.222595  0.684092\n",
       "3  0.513685  0.231400\n",
       "4  0.533168  0.343659"
      ]
     },
     "execution_count": 6,
     "metadata": {},
     "output_type": "execute_result"
    }
   ],
   "source": [
    "N  = 25000\n",
    "df = pd.read_csv(f'{BASE:s}/data/SIR_alpha_beta_110k.csv.gz', nrows=N)\n",
    "# N: number of epidemics to generate\n",
    "N  = len(df)\n",
    "print('number of entries: %d' % N)\n",
    "df[:5]"
   ]
  },
  {
   "cell_type": "markdown",
   "metadata": {},
   "source": [
    "### Generate synthetic epidemics\n",
    "We'll choose a uniform prior $\\pi_\\theta$ as our __proposal distribution__ over the parameter space."
   ]
  },
  {
   "cell_type": "code",
   "execution_count": 15,
   "metadata": {},
   "outputs": [
    {
     "name": "stdout",
     "output_type": "stream",
     "text": [
      "generate 25000 epidemics\n"
     ]
    },
    {
     "name": "stderr",
     "output_type": "stream",
     "text": [
      "100%|████████████████████████████████████| 25000/25000 [03:18<00:00, 126.10it/s]\n"
     ]
    }
   ],
   "source": [
    "print(f'generate {N:d} epidemics')\n",
    "\n",
    "# get randomly sampled parameters\n",
    "alpha = df.alpha.to_numpy()\n",
    "beta  = df.beta.to_numpy()\n",
    "\n",
    "epidemics = []\n",
    "for j in tqdm(range(N)):\n",
    "    params = (alpha[j], beta[j])\n",
    "    states = generate(params, SIRdata)\n",
    "    states.insert(0, beta[j])\n",
    "    states.insert(0, alpha[j])\n",
    "    epidemics.append( states )    "
   ]
  },
  {
   "cell_type": "markdown",
   "metadata": {},
   "source": [
    "### Observe epidemics are equally spaced observation times"
   ]
  },
  {
   "cell_type": "code",
   "execution_count": 40,
   "metadata": {},
   "outputs": [
    {
     "name": "stderr",
     "output_type": "stream",
     "text": [
      "100%|███████████████████████████████████| 25000/25000 [00:06<00:00, 3602.94it/s]\n"
     ]
    }
   ],
   "source": [
    "tmin, tmax = SIRdata.tmin, SIRdata.tmax\n",
    "T = np.linspace(tmin, tmax, 2*int(tmax)+1)\n",
    "\n",
    "data = []\n",
    "for j in tqdm(range(N)):\n",
    "    a, b = epidemics[j][:2]\n",
    "    states = epidemics[j][2:]\n",
    "    \n",
    "    obs  = observe(T, states) \n",
    "    \n",
    "    for t, (s, i, r) in zip(T, obs):\n",
    "        data.append([a, b, t, s, i])"
   ]
  },
  {
   "cell_type": "markdown",
   "metadata": {},
   "source": [
    "### Randomly shuffle `data`"
   ]
  },
  {
   "cell_type": "code",
   "execution_count": 41,
   "metadata": {},
   "outputs": [
    {
     "data": {
      "text/plain": [
       "(5, 110000)"
      ]
     },
     "execution_count": 41,
     "metadata": {},
     "output_type": "execute_result"
    }
   ],
   "source": [
    "d = np.array(data)\n",
    "np.random.shuffle(d)\n",
    "K = 110000\n",
    "d = d[:K].T\n",
    "d.shape"
   ]
  },
  {
   "cell_type": "markdown",
   "metadata": {},
   "source": [
    "### Write to CSV file"
   ]
  },
  {
   "cell_type": "code",
   "execution_count": 42,
   "metadata": {},
   "outputs": [
    {
     "data": {
      "text/html": [
       "<div>\n",
       "<style scoped>\n",
       "    .dataframe tbody tr th:only-of-type {\n",
       "        vertical-align: middle;\n",
       "    }\n",
       "\n",
       "    .dataframe tbody tr th {\n",
       "        vertical-align: top;\n",
       "    }\n",
       "\n",
       "    .dataframe thead th {\n",
       "        text-align: right;\n",
       "    }\n",
       "</style>\n",
       "<table border=\"1\" class=\"dataframe\">\n",
       "  <thead>\n",
       "    <tr style=\"text-align: right;\">\n",
       "      <th></th>\n",
       "      <th>alpha</th>\n",
       "      <th>beta</th>\n",
       "      <th>t</th>\n",
       "      <th>s</th>\n",
       "      <th>i</th>\n",
       "    </tr>\n",
       "  </thead>\n",
       "  <tbody>\n",
       "    <tr>\n",
       "      <th>0</th>\n",
       "      <td>0.213605</td>\n",
       "      <td>0.555996</td>\n",
       "      <td>1.0</td>\n",
       "      <td>752.0</td>\n",
       "      <td>13.0</td>\n",
       "    </tr>\n",
       "    <tr>\n",
       "      <th>1</th>\n",
       "      <td>0.035917</td>\n",
       "      <td>0.609252</td>\n",
       "      <td>6.5</td>\n",
       "      <td>0.0</td>\n",
       "      <td>687.0</td>\n",
       "    </tr>\n",
       "    <tr>\n",
       "      <th>2</th>\n",
       "      <td>0.901360</td>\n",
       "      <td>0.650791</td>\n",
       "      <td>2.0</td>\n",
       "      <td>571.0</td>\n",
       "      <td>141.0</td>\n",
       "    </tr>\n",
       "    <tr>\n",
       "      <th>3</th>\n",
       "      <td>0.406070</td>\n",
       "      <td>0.219739</td>\n",
       "      <td>4.5</td>\n",
       "      <td>666.0</td>\n",
       "      <td>50.0</td>\n",
       "    </tr>\n",
       "    <tr>\n",
       "      <th>4</th>\n",
       "      <td>0.039018</td>\n",
       "      <td>0.566040</td>\n",
       "      <td>9.5</td>\n",
       "      <td>0.0</td>\n",
       "      <td>597.0</td>\n",
       "    </tr>\n",
       "  </tbody>\n",
       "</table>\n",
       "</div>"
      ],
      "text/plain": [
       "      alpha      beta    t      s      i\n",
       "0  0.213605  0.555996  1.0  752.0   13.0\n",
       "1  0.035917  0.609252  6.5    0.0  687.0\n",
       "2  0.901360  0.650791  2.0  571.0  141.0\n",
       "3  0.406070  0.219739  4.5  666.0   50.0\n",
       "4  0.039018  0.566040  9.5    0.0  597.0"
      ]
     },
     "execution_count": 42,
     "metadata": {},
     "output_type": "execute_result"
    }
   ],
   "source": [
    "df = pd.DataFrame({'alpha': d[0], \n",
    "                   'beta': d[1],\n",
    "                   't': d[2],\n",
    "                   's': d[3], \n",
    "                   'i': d[4]})\n",
    "\n",
    "df.to_csv('../data/traindata_110k.csv.gz', index=False, compression='gzip')\n",
    "\n",
    "df[:5]"
   ]
  },
  {
   "cell_type": "code",
   "execution_count": 13,
   "metadata": {},
   "outputs": [
    {
     "data": {
      "text/plain": [
       "(57, 3)"
      ]
     },
     "execution_count": 13,
     "metadata": {},
     "output_type": "execute_result"
    }
   ],
   "source": [
    "d = data.mean(axis=0)\n",
    "d.shape"
   ]
  },
  {
   "cell_type": "code",
   "execution_count": null,
   "metadata": {},
   "outputs": [],
   "source": []
  }
 ],
 "metadata": {
  "kernelspec": {
   "display_name": "Python 3 (ipykernel)",
   "language": "python",
   "name": "python3"
  },
  "language_info": {
   "codemirror_mode": {
    "name": "ipython",
    "version": 3
   },
   "file_extension": ".py",
   "mimetype": "text/x-python",
   "name": "python",
   "nbconvert_exporter": "python",
   "pygments_lexer": "ipython3",
   "version": "3.11.8"
  }
 },
 "nbformat": 4,
 "nbformat_minor": 4
}
